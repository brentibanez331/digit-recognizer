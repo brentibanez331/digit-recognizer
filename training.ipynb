{
 "cells": [
  {
   "cell_type": "code",
   "execution_count": 1,
   "id": "968027ff",
   "metadata": {},
   "outputs": [],
   "source": [
    "import pandas as pd\n",
    "import numpy as np\n",
    "import tensorflow as tf\n",
    "from tensorflow.keras.layers import Dense\n",
    "from tensorflow.keras.layers import Flatten\n",
    "from tensorflow.keras.models import Sequential\n",
    "from sklearn.model_selection import train_test_split\n",
    "from tensorflow.keras.activations import linear, relu, sigmoid\n",
    "from sklearn.decomposition import PCA"
   ]
  },
  {
   "cell_type": "code",
   "execution_count": 2,
   "id": "83259240",
   "metadata": {},
   "outputs": [],
   "source": [
    "data = pd.read_csv(\"train.csv\")\n",
    "test = pd.read_csv(\"test.csv\")"
   ]
  },
  {
   "cell_type": "code",
   "execution_count": 3,
   "id": "90543032",
   "metadata": {},
   "outputs": [
    {
     "data": {
      "text/html": [
       "<div>\n",
       "<style scoped>\n",
       "    .dataframe tbody tr th:only-of-type {\n",
       "        vertical-align: middle;\n",
       "    }\n",
       "\n",
       "    .dataframe tbody tr th {\n",
       "        vertical-align: top;\n",
       "    }\n",
       "\n",
       "    .dataframe thead th {\n",
       "        text-align: right;\n",
       "    }\n",
       "</style>\n",
       "<table border=\"1\" class=\"dataframe\">\n",
       "  <thead>\n",
       "    <tr style=\"text-align: right;\">\n",
       "      <th></th>\n",
       "      <th>label</th>\n",
       "      <th>pixel0</th>\n",
       "      <th>pixel1</th>\n",
       "      <th>pixel2</th>\n",
       "      <th>pixel3</th>\n",
       "      <th>pixel4</th>\n",
       "      <th>pixel5</th>\n",
       "      <th>pixel6</th>\n",
       "      <th>pixel7</th>\n",
       "      <th>pixel8</th>\n",
       "      <th>...</th>\n",
       "      <th>pixel774</th>\n",
       "      <th>pixel775</th>\n",
       "      <th>pixel776</th>\n",
       "      <th>pixel777</th>\n",
       "      <th>pixel778</th>\n",
       "      <th>pixel779</th>\n",
       "      <th>pixel780</th>\n",
       "      <th>pixel781</th>\n",
       "      <th>pixel782</th>\n",
       "      <th>pixel783</th>\n",
       "    </tr>\n",
       "  </thead>\n",
       "  <tbody>\n",
       "    <tr>\n",
       "      <th>0</th>\n",
       "      <td>1</td>\n",
       "      <td>0</td>\n",
       "      <td>0</td>\n",
       "      <td>0</td>\n",
       "      <td>0</td>\n",
       "      <td>0</td>\n",
       "      <td>0</td>\n",
       "      <td>0</td>\n",
       "      <td>0</td>\n",
       "      <td>0</td>\n",
       "      <td>...</td>\n",
       "      <td>0</td>\n",
       "      <td>0</td>\n",
       "      <td>0</td>\n",
       "      <td>0</td>\n",
       "      <td>0</td>\n",
       "      <td>0</td>\n",
       "      <td>0</td>\n",
       "      <td>0</td>\n",
       "      <td>0</td>\n",
       "      <td>0</td>\n",
       "    </tr>\n",
       "    <tr>\n",
       "      <th>1</th>\n",
       "      <td>0</td>\n",
       "      <td>0</td>\n",
       "      <td>0</td>\n",
       "      <td>0</td>\n",
       "      <td>0</td>\n",
       "      <td>0</td>\n",
       "      <td>0</td>\n",
       "      <td>0</td>\n",
       "      <td>0</td>\n",
       "      <td>0</td>\n",
       "      <td>...</td>\n",
       "      <td>0</td>\n",
       "      <td>0</td>\n",
       "      <td>0</td>\n",
       "      <td>0</td>\n",
       "      <td>0</td>\n",
       "      <td>0</td>\n",
       "      <td>0</td>\n",
       "      <td>0</td>\n",
       "      <td>0</td>\n",
       "      <td>0</td>\n",
       "    </tr>\n",
       "    <tr>\n",
       "      <th>2</th>\n",
       "      <td>1</td>\n",
       "      <td>0</td>\n",
       "      <td>0</td>\n",
       "      <td>0</td>\n",
       "      <td>0</td>\n",
       "      <td>0</td>\n",
       "      <td>0</td>\n",
       "      <td>0</td>\n",
       "      <td>0</td>\n",
       "      <td>0</td>\n",
       "      <td>...</td>\n",
       "      <td>0</td>\n",
       "      <td>0</td>\n",
       "      <td>0</td>\n",
       "      <td>0</td>\n",
       "      <td>0</td>\n",
       "      <td>0</td>\n",
       "      <td>0</td>\n",
       "      <td>0</td>\n",
       "      <td>0</td>\n",
       "      <td>0</td>\n",
       "    </tr>\n",
       "    <tr>\n",
       "      <th>3</th>\n",
       "      <td>4</td>\n",
       "      <td>0</td>\n",
       "      <td>0</td>\n",
       "      <td>0</td>\n",
       "      <td>0</td>\n",
       "      <td>0</td>\n",
       "      <td>0</td>\n",
       "      <td>0</td>\n",
       "      <td>0</td>\n",
       "      <td>0</td>\n",
       "      <td>...</td>\n",
       "      <td>0</td>\n",
       "      <td>0</td>\n",
       "      <td>0</td>\n",
       "      <td>0</td>\n",
       "      <td>0</td>\n",
       "      <td>0</td>\n",
       "      <td>0</td>\n",
       "      <td>0</td>\n",
       "      <td>0</td>\n",
       "      <td>0</td>\n",
       "    </tr>\n",
       "    <tr>\n",
       "      <th>4</th>\n",
       "      <td>0</td>\n",
       "      <td>0</td>\n",
       "      <td>0</td>\n",
       "      <td>0</td>\n",
       "      <td>0</td>\n",
       "      <td>0</td>\n",
       "      <td>0</td>\n",
       "      <td>0</td>\n",
       "      <td>0</td>\n",
       "      <td>0</td>\n",
       "      <td>...</td>\n",
       "      <td>0</td>\n",
       "      <td>0</td>\n",
       "      <td>0</td>\n",
       "      <td>0</td>\n",
       "      <td>0</td>\n",
       "      <td>0</td>\n",
       "      <td>0</td>\n",
       "      <td>0</td>\n",
       "      <td>0</td>\n",
       "      <td>0</td>\n",
       "    </tr>\n",
       "  </tbody>\n",
       "</table>\n",
       "<p>5 rows × 785 columns</p>\n",
       "</div>"
      ],
      "text/plain": [
       "   label  pixel0  pixel1  pixel2  pixel3  pixel4  pixel5  pixel6  pixel7  \\\n",
       "0      1       0       0       0       0       0       0       0       0   \n",
       "1      0       0       0       0       0       0       0       0       0   \n",
       "2      1       0       0       0       0       0       0       0       0   \n",
       "3      4       0       0       0       0       0       0       0       0   \n",
       "4      0       0       0       0       0       0       0       0       0   \n",
       "\n",
       "   pixel8  ...  pixel774  pixel775  pixel776  pixel777  pixel778  pixel779  \\\n",
       "0       0  ...         0         0         0         0         0         0   \n",
       "1       0  ...         0         0         0         0         0         0   \n",
       "2       0  ...         0         0         0         0         0         0   \n",
       "3       0  ...         0         0         0         0         0         0   \n",
       "4       0  ...         0         0         0         0         0         0   \n",
       "\n",
       "   pixel780  pixel781  pixel782  pixel783  \n",
       "0         0         0         0         0  \n",
       "1         0         0         0         0  \n",
       "2         0         0         0         0  \n",
       "3         0         0         0         0  \n",
       "4         0         0         0         0  \n",
       "\n",
       "[5 rows x 785 columns]"
      ]
     },
     "execution_count": 3,
     "metadata": {},
     "output_type": "execute_result"
    }
   ],
   "source": [
    "data.head(5)"
   ]
  },
  {
   "cell_type": "code",
   "execution_count": 4,
   "id": "c7ad0495",
   "metadata": {},
   "outputs": [],
   "source": [
    "X = data.drop('label', axis=1).to_numpy()\n",
    "y = data['label'].to_numpy()\n",
    "test = test.to_numpy()"
   ]
  },
  {
   "cell_type": "code",
   "execution_count": 5,
   "id": "f2e7c0e2",
   "metadata": {
    "scrolled": true
   },
   "outputs": [
    {
     "data": {
      "text/plain": [
       "(28000, 784)"
      ]
     },
     "execution_count": 5,
     "metadata": {},
     "output_type": "execute_result"
    }
   ],
   "source": [
    "test.shape"
   ]
  },
  {
   "cell_type": "code",
   "execution_count": 6,
   "id": "0b9a428e",
   "metadata": {},
   "outputs": [
    {
     "name": "stdout",
     "output_type": "stream",
     "text": [
      "(28000, 784)\n"
     ]
    }
   ],
   "source": [
    "print(test.shape)"
   ]
  },
  {
   "cell_type": "code",
   "execution_count": 7,
   "id": "f0af302e",
   "metadata": {},
   "outputs": [],
   "source": [
    "X = tf.keras.utils.normalize(X, axis=1)\n",
    "test = tf.keras.utils.normalize(test, axis=1)"
   ]
  },
  {
   "cell_type": "code",
   "execution_count": 8,
   "id": "9d1b4a47",
   "metadata": {},
   "outputs": [],
   "source": [
    "tf.random.set_seed(1234)\n",
    "model = Sequential([\n",
    "    tf.keras.Input(shape=(784,)),\n",
    "    Dense(128, activation='relu', name='L1'),\n",
    "    Dense(128, activation='relu', name='L2'),\n",
    "    Dense(10, activation='linear', name='L3')\n",
    "],name=\"my_model\")"
   ]
  },
  {
   "cell_type": "code",
   "execution_count": 9,
   "id": "f979b5cc",
   "metadata": {},
   "outputs": [
    {
     "name": "stdout",
     "output_type": "stream",
     "text": [
      "Model: \"my_model\"\n",
      "_________________________________________________________________\n",
      " Layer (type)                Output Shape              Param #   \n",
      "=================================================================\n",
      " L1 (Dense)                  (None, 128)               100480    \n",
      "                                                                 \n",
      " L2 (Dense)                  (None, 128)               16512     \n",
      "                                                                 \n",
      " L3 (Dense)                  (None, 10)                1290      \n",
      "                                                                 \n",
      "=================================================================\n",
      "Total params: 118,282\n",
      "Trainable params: 118,282\n",
      "Non-trainable params: 0\n",
      "_________________________________________________________________\n"
     ]
    }
   ],
   "source": [
    "model.summary()"
   ]
  },
  {
   "cell_type": "code",
   "execution_count": 10,
   "id": "a2571c5b",
   "metadata": {},
   "outputs": [],
   "source": [
    "model.compile(\n",
    "    loss = tf.keras.losses.SparseCategoricalCrossentropy(from_logits=True),\n",
    "    optimizer = tf.keras.optimizers.Adam(learning_rate=0.001),\n",
    "    metrics=['accuracy']\n",
    ")"
   ]
  },
  {
   "cell_type": "code",
   "execution_count": 11,
   "id": "046b775f",
   "metadata": {},
   "outputs": [],
   "source": [
    "X_train, X_val, y_train, y_val = train_test_split(X,y,test_size=0.2, random_state=23)"
   ]
  },
  {
   "cell_type": "code",
   "execution_count": 12,
   "id": "ee39427d",
   "metadata": {},
   "outputs": [
    {
     "name": "stdout",
     "output_type": "stream",
     "text": [
      "Epoch 1/15\n",
      "1050/1050 [==============================] - 7s 6ms/step - loss: 0.4296 - accuracy: 0.8786\n",
      "Epoch 2/15\n",
      "1050/1050 [==============================] - 6s 5ms/step - loss: 0.1951 - accuracy: 0.9406\n",
      "Epoch 3/15\n",
      "1050/1050 [==============================] - 5s 5ms/step - loss: 0.1385 - accuracy: 0.9582\n",
      "Epoch 4/15\n",
      "1050/1050 [==============================] - 6s 5ms/step - loss: 0.1052 - accuracy: 0.9673\n",
      "Epoch 5/15\n",
      "1050/1050 [==============================] - 5s 5ms/step - loss: 0.0807 - accuracy: 0.9756\n",
      "Epoch 6/15\n",
      "1050/1050 [==============================] - 7s 6ms/step - loss: 0.0629 - accuracy: 0.9810\n",
      "Epoch 7/15\n",
      "1050/1050 [==============================] - 5s 5ms/step - loss: 0.0493 - accuracy: 0.9857\n",
      "Epoch 8/15\n",
      "1050/1050 [==============================] - 5s 5ms/step - loss: 0.0399 - accuracy: 0.9878\n",
      "Epoch 9/15\n",
      "1050/1050 [==============================] - 6s 5ms/step - loss: 0.0328 - accuracy: 0.9897\n",
      "Epoch 10/15\n",
      "1050/1050 [==============================] - 7s 7ms/step - loss: 0.0258 - accuracy: 0.9923\n",
      "Epoch 11/15\n",
      "1050/1050 [==============================] - 6s 6ms/step - loss: 0.0199 - accuracy: 0.9940\n",
      "Epoch 12/15\n",
      "1050/1050 [==============================] - 5s 5ms/step - loss: 0.0177 - accuracy: 0.9943\n",
      "Epoch 13/15\n",
      "1050/1050 [==============================] - 6s 6ms/step - loss: 0.0134 - accuracy: 0.9960\n",
      "Epoch 14/15\n",
      "1050/1050 [==============================] - 5s 5ms/step - loss: 0.0099 - accuracy: 0.9972\n",
      "Epoch 15/15\n",
      "1050/1050 [==============================] - 5s 5ms/step - loss: 0.0109 - accuracy: 0.9967\n"
     ]
    },
    {
     "data": {
      "text/plain": [
       "<keras.callbacks.History at 0x22992ed88b0>"
      ]
     },
     "execution_count": 12,
     "metadata": {},
     "output_type": "execute_result"
    }
   ],
   "source": [
    "model.fit(X_train, y_train, epochs=15)"
   ]
  },
  {
   "cell_type": "code",
   "execution_count": 13,
   "id": "58f41ac2",
   "metadata": {},
   "outputs": [
    {
     "name": "stdout",
     "output_type": "stream",
     "text": [
      "263/263 [==============================] - 2s 7ms/step - loss: 0.1164 - accuracy: 0.9713\n"
     ]
    }
   ],
   "source": [
    "loss, accuracy = model.evaluate(X_val, y_val)"
   ]
  },
  {
   "cell_type": "code",
   "execution_count": 15,
   "id": "0632f98c",
   "metadata": {},
   "outputs": [
    {
     "name": "stdout",
     "output_type": "stream",
     "text": [
      "1/1 [==============================] - 0s 26ms/step\n",
      "7\n",
      "7\n"
     ]
    }
   ],
   "source": [
    "pred = model.predict(X_train[120].reshape(1, 784))\n",
    "prediction_p = tf.nn.softmax(pred)\n",
    "        \n",
    "predictions = np.argmax(prediction_p)\n",
    "print(y_train[120])\n",
    "print(predictions)"
   ]
  },
  {
   "cell_type": "code",
   "execution_count": 16,
   "id": "b446e626",
   "metadata": {},
   "outputs": [],
   "source": [
    "def predict(X):\n",
    "    m, n = X.shape\n",
    "    predictions = np.zeros((m,))\n",
    "    \n",
    "    for i in range(m):\n",
    "        prediction = model.predict(X[i].reshape(1, 784))\n",
    "        prediction_p = tf.nn.softmax(prediction)\n",
    "        \n",
    "        predictions[i] = np.argmax(prediction_p)\n",
    "            \n",
    "    return predictions.astype(int)"
   ]
  },
  {
   "cell_type": "code",
   "execution_count": null,
   "id": "da2a7ba1-60f9-4666-a4a8-4e18c2541d0f",
   "metadata": {},
   "outputs": [],
   "source": [
    "import time\n",
    "\n",
    "start_time = time.time()\n",
    "val_preds = predict(X_val)\n",
    "end_time = time.time()\n",
    "prediction_time = end_time - start_time\n",
    "print(\"Prediction time:\", prediction_time, \"seconds\")"
   ]
  },
  {
   "cell_type": "code",
   "execution_count": 24,
   "id": "227cf1f1",
   "metadata": {},
   "outputs": [
    {
     "name": "stdout",
     "output_type": "stream",
     "text": [
      "Validation Accuracy: 98.00%\n"
     ]
    }
   ],
   "source": [
    "accuracy = np.mean(val_preds == y_val)\n",
    "print(f\"Validation Accuracy: {accuracy * 100:.2f}%\")"
   ]
  },
  {
   "cell_type": "code",
   "execution_count": 25,
   "id": "b41e601d",
   "metadata": {},
   "outputs": [],
   "source": [
    "test_preds = predict(test)"
   ]
  },
  {
   "cell_type": "code",
   "execution_count": 26,
   "id": "2e347a4c",
   "metadata": {},
   "outputs": [],
   "source": [
    "test_ids = np.arange(1, 28001)\n",
    "df = pd.DataFrame({\"ImageId\":test_ids,\n",
    "                  \"Label\": test_preds})"
   ]
  },
  {
   "cell_type": "code",
   "execution_count": 27,
   "id": "2757825c",
   "metadata": {},
   "outputs": [],
   "source": [
    "df.to_csv(\"submission.csv\", index=False)"
   ]
  },
  {
   "cell_type": "code",
   "execution_count": 6,
   "id": "7154ea8d",
   "metadata": {},
   "outputs": [],
   "source": [
    "num_components = 90\n",
    "\n",
    "pca = PCA(n_components=num_components)\n",
    "X = pca.fit_transform(X)\n",
    "test_pca = pca.fit_transform(test)\n",
    "# print(data_pca.explained_variance_)\n",
    "# print(data_pca.explained_variance_ratio_)\n",
    "# print(data_pca.explained_variance_ratio_.cumsum())"
   ]
  },
  {
   "cell_type": "code",
   "execution_count": 9,
   "id": "39574151",
   "metadata": {},
   "outputs": [
    {
     "name": "stdout",
     "output_type": "stream",
     "text": [
      "[[-661.59577936 -699.31132683  183.28203653 ...    4.31048534\n",
      "     7.64124098   54.9130869 ]\n",
      " [1701.45168402 -360.55155611 -501.80558915 ...    8.85265816\n",
      "   -87.4183375     2.15722396]\n",
      " [-886.89443475 -293.76578147   67.15531552 ...   74.26583902\n",
      "    27.11741001  -12.51245987]\n",
      " ...\n",
      " [ 336.2699819   950.01527986 -168.60541208 ...   24.70113351\n",
      "    77.53218158  -33.11230308]\n",
      " [ 327.39939107   62.01608895  697.5363954  ...  -80.53008738\n",
      "   -65.51460495  -12.41099851]\n",
      " [-364.24920036  418.89302463   62.89982111 ... -138.68973137\n",
      "    99.32192553   52.27302086]]\n"
     ]
    }
   ],
   "source": [
    "print(X)"
   ]
  },
  {
   "cell_type": "code",
   "execution_count": 8,
   "id": "4f7bd529",
   "metadata": {},
   "outputs": [
    {
     "name": "stdout",
     "output_type": "stream",
     "text": [
      "(42000, 90)\n",
      "(42000,)\n"
     ]
    }
   ],
   "source": [
    "print(X.shape)\n",
    "print(y.shape)"
   ]
  },
  {
   "cell_type": "code",
   "execution_count": 10,
   "id": "e8fc23af",
   "metadata": {},
   "outputs": [],
   "source": [
    "X_train, X_val, y_train, y_val = train_test_split(X,y,test_size=0.2, random_state=23)"
   ]
  },
  {
   "cell_type": "code",
   "execution_count": 11,
   "id": "813f29c8",
   "metadata": {},
   "outputs": [],
   "source": [
    "tf.random.set_seed(1234)\n",
    "model = Sequential([\n",
    "        tf.keras.Input(shape=(784,)),\n",
    "        Dense(25, activation='relu', name='L1'),\n",
    "        Dense(15, activation='relu', name='L2'),\n",
    "        Dense(10, activation='linear', name='L3')\n",
    "    ],name=\"my_model\"\n",
    ")"
   ]
  },
  {
   "cell_type": "code",
   "execution_count": 12,
   "id": "ad3e4adc",
   "metadata": {},
   "outputs": [
    {
     "name": "stdout",
     "output_type": "stream",
     "text": [
      "Model: \"my_model\"\n",
      "_________________________________________________________________\n",
      " Layer (type)                Output Shape              Param #   \n",
      "=================================================================\n",
      " L1 (Dense)                  (None, 25)                2275      \n",
      "                                                                 \n",
      " L2 (Dense)                  (None, 15)                390       \n",
      "                                                                 \n",
      " L3 (Dense)                  (None, 10)                160       \n",
      "                                                                 \n",
      "=================================================================\n",
      "Total params: 2,825\n",
      "Trainable params: 2,825\n",
      "Non-trainable params: 0\n",
      "_________________________________________________________________\n"
     ]
    }
   ],
   "source": [
    "model.summary()"
   ]
  },
  {
   "cell_type": "code",
   "execution_count": 13,
   "id": "87e63f1b",
   "metadata": {},
   "outputs": [],
   "source": [
    "[layer1, layer2, layer3] = model.layers"
   ]
  },
  {
   "cell_type": "code",
   "execution_count": 14,
   "id": "b6cab4d9",
   "metadata": {},
   "outputs": [
    {
     "name": "stdout",
     "output_type": "stream",
     "text": [
      "W1 shape = (90, 25), b1 shape = (25,)\n",
      "W2 shape = (25, 15), b2 shape = (15,)\n",
      "W3 shape = (15, 10), b3 shape = (10,)\n"
     ]
    }
   ],
   "source": [
    "W1, b1 = layer1.get_weights()\n",
    "W2, b2 = layer2.get_weights()\n",
    "W3, b3 = layer3.get_weights()\n",
    "print(f\"W1 shape = {W1.shape}, b1 shape = {b1.shape}\")\n",
    "print(f\"W2 shape = {W2.shape}, b2 shape = {b2.shape}\")\n",
    "print(f\"W3 shape = {W3.shape}, b3 shape = {b3.shape}\")"
   ]
  },
  {
   "cell_type": "code",
   "execution_count": 15,
   "id": "3395dc0b",
   "metadata": {},
   "outputs": [
    {
     "name": "stdout",
     "output_type": "stream",
     "text": [
      "Epoch 1/40\n",
      "1050/1050 [==============================] - 2s 1ms/step - loss: 14.5490\n",
      "Epoch 2/40\n",
      "1050/1050 [==============================] - 1s 1ms/step - loss: 1.4440\n",
      "Epoch 3/40\n",
      "1050/1050 [==============================] - 1s 1ms/step - loss: 0.8681\n",
      "Epoch 4/40\n",
      "1050/1050 [==============================] - 1s 1ms/step - loss: 0.6098\n",
      "Epoch 5/40\n",
      "1050/1050 [==============================] - 1s 1ms/step - loss: 0.4650\n",
      "Epoch 6/40\n",
      "1050/1050 [==============================] - 1s 1ms/step - loss: 0.3739\n",
      "Epoch 7/40\n",
      "1050/1050 [==============================] - 1s 1ms/step - loss: 0.3137\n",
      "Epoch 8/40\n",
      "1050/1050 [==============================] - 1s 1ms/step - loss: 0.2737\n",
      "Epoch 9/40\n",
      "1050/1050 [==============================] - 1s 1ms/step - loss: 0.2446\n",
      "Epoch 10/40\n",
      "1050/1050 [==============================] - 1s 1ms/step - loss: 0.2179\n",
      "Epoch 11/40\n",
      "1050/1050 [==============================] - 1s 1ms/step - loss: 0.2001\n",
      "Epoch 12/40\n",
      "1050/1050 [==============================] - 1s 1ms/step - loss: 0.1855\n",
      "Epoch 13/40\n",
      "1050/1050 [==============================] - 1s 1ms/step - loss: 0.1758\n",
      "Epoch 14/40\n",
      "1050/1050 [==============================] - 1s 1ms/step - loss: 0.1626\n",
      "Epoch 15/40\n",
      "1050/1050 [==============================] - 1s 1ms/step - loss: 0.1563\n",
      "Epoch 16/40\n",
      "1050/1050 [==============================] - 2s 1ms/step - loss: 0.1486\n",
      "Epoch 17/40\n",
      "1050/1050 [==============================] - 2s 1ms/step - loss: 0.1419\n",
      "Epoch 18/40\n",
      "1050/1050 [==============================] - 1s 1ms/step - loss: 0.1421\n",
      "Epoch 19/40\n",
      "1050/1050 [==============================] - 1s 1ms/step - loss: 0.1357\n",
      "Epoch 20/40\n",
      "1050/1050 [==============================] - 1s 1ms/step - loss: 0.1321\n",
      "Epoch 21/40\n",
      "1050/1050 [==============================] - 1s 1ms/step - loss: 0.1336\n",
      "Epoch 22/40\n",
      "1050/1050 [==============================] - 1s 1ms/step - loss: 0.1263\n",
      "Epoch 23/40\n",
      "1050/1050 [==============================] - 1s 1ms/step - loss: 0.1216\n",
      "Epoch 24/40\n",
      "1050/1050 [==============================] - 1s 1ms/step - loss: 0.1212\n",
      "Epoch 25/40\n",
      "1050/1050 [==============================] - 1s 1ms/step - loss: 0.1177\n",
      "Epoch 26/40\n",
      "1050/1050 [==============================] - 1s 1ms/step - loss: 0.1178\n",
      "Epoch 27/40\n",
      "1050/1050 [==============================] - 2s 1ms/step - loss: 0.1117\n",
      "Epoch 28/40\n",
      "1050/1050 [==============================] - 1s 1ms/step - loss: 0.1097\n",
      "Epoch 29/40\n",
      "1050/1050 [==============================] - 2s 1ms/step - loss: 0.1121\n",
      "Epoch 30/40\n",
      "1050/1050 [==============================] - 1s 1ms/step - loss: 0.1081\n",
      "Epoch 31/40\n",
      "1050/1050 [==============================] - 1s 1ms/step - loss: 0.1100\n",
      "Epoch 32/40\n",
      "1050/1050 [==============================] - 1s 1ms/step - loss: 0.1067\n",
      "Epoch 33/40\n",
      "1050/1050 [==============================] - 1s 1ms/step - loss: 0.1049\n",
      "Epoch 34/40\n",
      "1050/1050 [==============================] - 1s 1ms/step - loss: 0.1060\n",
      "Epoch 35/40\n",
      "1050/1050 [==============================] - 1s 1ms/step - loss: 0.1050\n",
      "Epoch 36/40\n",
      "1050/1050 [==============================] - 1s 1ms/step - loss: 0.1050\n",
      "Epoch 37/40\n",
      "1050/1050 [==============================] - 1s 1ms/step - loss: 0.1022\n",
      "Epoch 38/40\n",
      "1050/1050 [==============================] - 2s 2ms/step - loss: 0.1037\n",
      "Epoch 39/40\n",
      "1050/1050 [==============================] - 2s 2ms/step - loss: 0.0997\n",
      "Epoch 40/40\n",
      "1050/1050 [==============================] - 2s 2ms/step - loss: 0.0974\n"
     ]
    }
   ],
   "source": [
    "model.compile(\n",
    "    loss = tf.keras.losses.SparseCategoricalCrossentropy(from_logits=True),\n",
    "    optimizer = tf.keras.optimizers.Adam(learning_rate=0.001)\n",
    ")\n",
    "\n",
    "history = model.fit(X_train, y_train, epochs=40)"
   ]
  },
  {
   "cell_type": "code",
   "execution_count": 21,
   "id": "7c16e44a",
   "metadata": {},
   "outputs": [],
   "source": [
    "def predict(X):\n",
    "    m, n = X.shape\n",
    "    predictions = np.zeros((m,))\n",
    "    \n",
    "    for i in range(m):\n",
    "        prediction = model.predict(X[i].reshape(1,90))\n",
    "        prediction_p = tf.nn.softmax(prediction)\n",
    "        \n",
    "        predictions[i] = np.argmax(prediction_p)\n",
    "            \n",
    "    return predictions.astype(int)"
   ]
  },
  {
   "cell_type": "code",
   "execution_count": 22,
   "id": "ffaeb90c",
   "metadata": {
    "scrolled": true
   },
   "outputs": [
    {
     "name": "stdout",
     "output_type": "stream",
     "text": [
      "1/1 [==============================] - 0s 18ms/step\n",
      "8\n"
     ]
    }
   ],
   "source": [
    "prediction = model.predict(X_train[2964].reshape(1,90))\n",
    "prediction_p = tf.nn.softmax(prediction)\n",
    "        \n",
    "predictions = np.argmax(prediction_p)\n",
    "print(predictions)"
   ]
  },
  {
   "cell_type": "code",
   "execution_count": 23,
   "id": "b4537d1a",
   "metadata": {},
   "outputs": [
    {
     "data": {
      "text/html": [
       "<div>\n",
       "<style scoped>\n",
       "    .dataframe tbody tr th:only-of-type {\n",
       "        vertical-align: middle;\n",
       "    }\n",
       "\n",
       "    .dataframe tbody tr th {\n",
       "        vertical-align: top;\n",
       "    }\n",
       "\n",
       "    .dataframe thead th {\n",
       "        text-align: right;\n",
       "    }\n",
       "</style>\n",
       "<table border=\"1\" class=\"dataframe\">\n",
       "  <thead>\n",
       "    <tr style=\"text-align: right;\">\n",
       "      <th></th>\n",
       "      <th>label</th>\n",
       "      <th>pixel0</th>\n",
       "      <th>pixel1</th>\n",
       "      <th>pixel2</th>\n",
       "      <th>pixel3</th>\n",
       "      <th>pixel4</th>\n",
       "      <th>pixel5</th>\n",
       "      <th>pixel6</th>\n",
       "      <th>pixel7</th>\n",
       "      <th>pixel8</th>\n",
       "      <th>...</th>\n",
       "      <th>pixel774</th>\n",
       "      <th>pixel775</th>\n",
       "      <th>pixel776</th>\n",
       "      <th>pixel777</th>\n",
       "      <th>pixel778</th>\n",
       "      <th>pixel779</th>\n",
       "      <th>pixel780</th>\n",
       "      <th>pixel781</th>\n",
       "      <th>pixel782</th>\n",
       "      <th>pixel783</th>\n",
       "    </tr>\n",
       "  </thead>\n",
       "  <tbody>\n",
       "    <tr>\n",
       "      <th>2960</th>\n",
       "      <td>7</td>\n",
       "      <td>0</td>\n",
       "      <td>0</td>\n",
       "      <td>0</td>\n",
       "      <td>0</td>\n",
       "      <td>0</td>\n",
       "      <td>0</td>\n",
       "      <td>0</td>\n",
       "      <td>0</td>\n",
       "      <td>0</td>\n",
       "      <td>...</td>\n",
       "      <td>0</td>\n",
       "      <td>0</td>\n",
       "      <td>0</td>\n",
       "      <td>0</td>\n",
       "      <td>0</td>\n",
       "      <td>0</td>\n",
       "      <td>0</td>\n",
       "      <td>0</td>\n",
       "      <td>0</td>\n",
       "      <td>0</td>\n",
       "    </tr>\n",
       "    <tr>\n",
       "      <th>2961</th>\n",
       "      <td>2</td>\n",
       "      <td>0</td>\n",
       "      <td>0</td>\n",
       "      <td>0</td>\n",
       "      <td>0</td>\n",
       "      <td>0</td>\n",
       "      <td>0</td>\n",
       "      <td>0</td>\n",
       "      <td>0</td>\n",
       "      <td>0</td>\n",
       "      <td>...</td>\n",
       "      <td>0</td>\n",
       "      <td>0</td>\n",
       "      <td>0</td>\n",
       "      <td>0</td>\n",
       "      <td>0</td>\n",
       "      <td>0</td>\n",
       "      <td>0</td>\n",
       "      <td>0</td>\n",
       "      <td>0</td>\n",
       "      <td>0</td>\n",
       "    </tr>\n",
       "    <tr>\n",
       "      <th>2962</th>\n",
       "      <td>9</td>\n",
       "      <td>0</td>\n",
       "      <td>0</td>\n",
       "      <td>0</td>\n",
       "      <td>0</td>\n",
       "      <td>0</td>\n",
       "      <td>0</td>\n",
       "      <td>0</td>\n",
       "      <td>0</td>\n",
       "      <td>0</td>\n",
       "      <td>...</td>\n",
       "      <td>0</td>\n",
       "      <td>0</td>\n",
       "      <td>0</td>\n",
       "      <td>0</td>\n",
       "      <td>0</td>\n",
       "      <td>0</td>\n",
       "      <td>0</td>\n",
       "      <td>0</td>\n",
       "      <td>0</td>\n",
       "      <td>0</td>\n",
       "    </tr>\n",
       "    <tr>\n",
       "      <th>2963</th>\n",
       "      <td>7</td>\n",
       "      <td>0</td>\n",
       "      <td>0</td>\n",
       "      <td>0</td>\n",
       "      <td>0</td>\n",
       "      <td>0</td>\n",
       "      <td>0</td>\n",
       "      <td>0</td>\n",
       "      <td>0</td>\n",
       "      <td>0</td>\n",
       "      <td>...</td>\n",
       "      <td>0</td>\n",
       "      <td>0</td>\n",
       "      <td>0</td>\n",
       "      <td>0</td>\n",
       "      <td>0</td>\n",
       "      <td>0</td>\n",
       "      <td>0</td>\n",
       "      <td>0</td>\n",
       "      <td>0</td>\n",
       "      <td>0</td>\n",
       "    </tr>\n",
       "    <tr>\n",
       "      <th>2964</th>\n",
       "      <td>3</td>\n",
       "      <td>0</td>\n",
       "      <td>0</td>\n",
       "      <td>0</td>\n",
       "      <td>0</td>\n",
       "      <td>0</td>\n",
       "      <td>0</td>\n",
       "      <td>0</td>\n",
       "      <td>0</td>\n",
       "      <td>0</td>\n",
       "      <td>...</td>\n",
       "      <td>0</td>\n",
       "      <td>0</td>\n",
       "      <td>0</td>\n",
       "      <td>0</td>\n",
       "      <td>0</td>\n",
       "      <td>0</td>\n",
       "      <td>0</td>\n",
       "      <td>0</td>\n",
       "      <td>0</td>\n",
       "      <td>0</td>\n",
       "    </tr>\n",
       "  </tbody>\n",
       "</table>\n",
       "<p>5 rows × 785 columns</p>\n",
       "</div>"
      ],
      "text/plain": [
       "      label  pixel0  pixel1  pixel2  pixel3  pixel4  pixel5  pixel6  pixel7  \\\n",
       "2960      7       0       0       0       0       0       0       0       0   \n",
       "2961      2       0       0       0       0       0       0       0       0   \n",
       "2962      9       0       0       0       0       0       0       0       0   \n",
       "2963      7       0       0       0       0       0       0       0       0   \n",
       "2964      3       0       0       0       0       0       0       0       0   \n",
       "\n",
       "      pixel8  ...  pixel774  pixel775  pixel776  pixel777  pixel778  pixel779  \\\n",
       "2960       0  ...         0         0         0         0         0         0   \n",
       "2961       0  ...         0         0         0         0         0         0   \n",
       "2962       0  ...         0         0         0         0         0         0   \n",
       "2963       0  ...         0         0         0         0         0         0   \n",
       "2964       0  ...         0         0         0         0         0         0   \n",
       "\n",
       "      pixel780  pixel781  pixel782  pixel783  \n",
       "2960         0         0         0         0  \n",
       "2961         0         0         0         0  \n",
       "2962         0         0         0         0  \n",
       "2963         0         0         0         0  \n",
       "2964         0         0         0         0  \n",
       "\n",
       "[5 rows x 785 columns]"
      ]
     },
     "execution_count": 23,
     "metadata": {},
     "output_type": "execute_result"
    }
   ],
   "source": [
    "data[2960:2965]"
   ]
  },
  {
   "cell_type": "code",
   "execution_count": null,
   "id": "d04f6cda-0057-400c-82d2-6ba039ebe562",
   "metadata": {},
   "outputs": [],
   "source": [
    "val_preds = predict(X_val)"
   ]
  },
  {
   "cell_type": "code",
   "execution_count": 36,
   "id": "63307f1b",
   "metadata": {},
   "outputs": [
    {
     "name": "stdout",
     "output_type": "stream",
     "text": [
      "Validation Accuracy: 94.71%\n"
     ]
    }
   ],
   "source": [
    "#y_train is the actual value\n",
    "accuracy = np.mean(val_preds == y_val)\n",
    "print(f\"Validation Accuracy: {accuracy * 100:.2f}%\")"
   ]
  },
  {
   "cell_type": "code",
   "execution_count": null,
   "id": "7cb6d8f9",
   "metadata": {},
   "outputs": [],
   "source": [
    "test_preds = predict(test_pca)"
   ]
  },
  {
   "cell_type": "code",
   "execution_count": 33,
   "id": "b4ba05a4",
   "metadata": {},
   "outputs": [],
   "source": [
    "test_ids = np.arange(1, 28001)\n",
    "df = pd.DataFrame({\"ImageId\":test_ids,\n",
    "                  \"Label\": test_preds})"
   ]
  },
  {
   "cell_type": "code",
   "execution_count": 34,
   "id": "ce38fb78",
   "metadata": {},
   "outputs": [
    {
     "name": "stdout",
     "output_type": "stream",
     "text": [
      "       ImageId  Label\n",
      "0            1      2\n",
      "1            2      0\n",
      "2            3      3\n",
      "3            4      2\n",
      "4            5      4\n",
      "...        ...    ...\n",
      "27995    27996      3\n",
      "27996    27997      3\n",
      "27997    27998      9\n",
      "27998    27999      3\n",
      "27999    28000      2\n",
      "\n",
      "[28000 rows x 2 columns]\n"
     ]
    }
   ],
   "source": [
    "print(df)"
   ]
  },
  {
   "cell_type": "code",
   "execution_count": null,
   "id": "9b21f333",
   "metadata": {},
   "outputs": [],
   "source": []
  }
 ],
 "metadata": {
  "kernelspec": {
   "display_name": "Python 3 (ipykernel)",
   "language": "python",
   "name": "python3"
  },
  "language_info": {
   "codemirror_mode": {
    "name": "ipython",
    "version": 3
   },
   "file_extension": ".py",
   "mimetype": "text/x-python",
   "name": "python",
   "nbconvert_exporter": "python",
   "pygments_lexer": "ipython3",
   "version": "3.11.7"
  }
 },
 "nbformat": 4,
 "nbformat_minor": 5
}
